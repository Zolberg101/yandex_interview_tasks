{
 "cells": [
  {
   "cell_type": "markdown",
   "metadata": {},
   "source": [
    "# Autoregressive Moving Average (ARMA): Artificial data"
   ]
  },
  {
   "cell_type": "code",
   "execution_count": 1,
   "metadata": {
    "collapsed": false
   },
   "outputs": [
    {
     "name": "stderr",
     "output_type": "stream",
     "text": [
      "/usr/local/lib/python2.7/dist-packages/matplotlib/font_manager.py:273: UserWarning: Matplotlib is building the font cache using fc-list. This may take a moment.\n",
      "  warnings.warn('Matplotlib is building the font cache using fc-list. This may take a moment.')\n"
     ]
    }
   ],
   "source": [
    "%matplotlib inline\n",
    "\n",
    "from __future__ import print_function\n",
    "import numpy as np\n",
    "import statsmodels.api as sm\n",
    "import pandas as pd\n",
    "from statsmodels.tsa.arima_process import arma_generate_sample\n",
    "np.random.seed(12345)"
   ]
  },
  {
   "cell_type": "markdown",
   "metadata": {},
   "source": [
    "Generate some data from an ARMA process:"
   ]
  },
  {
   "cell_type": "code",
   "execution_count": 2,
   "metadata": {
    "collapsed": false
   },
   "outputs": [],
   "source": [
    "arparams = np.array([.75, -.25])\n",
    "maparams = np.array([.65, .35])"
   ]
  },
  {
   "cell_type": "markdown",
   "metadata": {},
   "source": [
    "The conventions of the arma_generate function require that we specify a 1 for the zero-lag of the AR and MA parameters and that the AR parameters be negated."
   ]
  },
  {
   "cell_type": "code",
   "execution_count": 3,
   "metadata": {
    "collapsed": false
   },
   "outputs": [],
   "source": [
    "arparams = np.r_[1, -arparams]\n",
    "maparam = np.r_[1, maparams]\n",
    "nobs = 250\n",
    "y = arma_generate_sample(arparams, maparams, nobs)"
   ]
  },
  {
   "cell_type": "markdown",
   "metadata": {},
   "source": [
    " Now, optionally, we can add some dates information. For this example, we'll use a pandas time series."
   ]
  },
  {
   "cell_type": "code",
   "execution_count": 8,
   "metadata": {
    "collapsed": false
   },
   "outputs": [
    {
     "data": {
      "text/plain": [
       "1980-01-31   -0.133060\n",
       "1980-02-29    0.139871\n",
       "1980-03-31   -0.031837\n",
       "1980-04-30   -0.601874\n",
       "1980-05-31    0.639806\n",
       "1980-06-30    2.224060\n",
       "1980-07-31    2.056176\n",
       "1980-08-31    1.201769\n",
       "1980-09-30    0.985759\n",
       "1980-10-31    1.518217\n",
       "1980-11-30    1.983149\n",
       "1980-12-31    0.617780\n",
       "1981-01-31   -0.307385\n",
       "1981-02-28   -0.139943\n",
       "1981-03-31    0.931404\n",
       "1981-04-30    1.783239\n",
       "1981-05-31    0.113764\n",
       "1981-06-30   -1.302757\n",
       "1981-07-31   -0.050787\n",
       "1981-08-31    0.586687\n",
       "1981-09-30   -0.051619\n",
       "1981-10-31   -0.064255\n",
       "1981-11-30    2.243472\n",
       "1981-12-31    2.172000\n",
       "1982-01-31    0.335596\n",
       "1982-02-28   -0.412605\n",
       "1982-03-31   -0.153211\n",
       "1982-04-30    0.434609\n",
       "1982-05-31    0.548191\n",
       "1982-06-30    1.176297\n",
       "                ...   \n",
       "1998-05-31    0.110777\n",
       "1998-06-30   -0.022084\n",
       "1998-07-31   -0.505372\n",
       "1998-08-31   -1.895997\n",
       "1998-09-30   -1.527703\n",
       "1998-10-31    0.211989\n",
       "1998-11-30    1.618749\n",
       "1998-12-31    1.607772\n",
       "1999-01-31    0.605399\n",
       "1999-02-28    0.071240\n",
       "1999-03-31   -0.603263\n",
       "1999-04-30   -1.915413\n",
       "1999-05-31   -2.579233\n",
       "1999-06-30   -0.890069\n",
       "1999-07-31    0.105532\n",
       "1999-08-31   -1.473197\n",
       "1999-09-30   -2.668898\n",
       "1999-10-31   -1.850898\n",
       "1999-11-30   -0.637246\n",
       "1999-12-31    0.027539\n",
       "2000-01-31   -0.686086\n",
       "2000-02-29   -1.019765\n",
       "2000-03-31    0.007418\n",
       "2000-04-30    0.172092\n",
       "2000-05-31    0.578478\n",
       "2000-06-30    0.050999\n",
       "2000-07-31   -0.206404\n",
       "2000-08-31   -0.170874\n",
       "2000-09-30    0.257949\n",
       "2000-10-31    0.245237\n",
       "dtype: float64"
      ]
     },
     "execution_count": 8,
     "metadata": {},
     "output_type": "execute_result"
    }
   ],
   "source": [
    "y"
   ]
  },
  {
   "cell_type": "code",
   "execution_count": 10,
   "metadata": {
    "collapsed": false
   },
   "outputs": [
    {
     "data": {
      "text/plain": [
       "[datetime.datetime(1980, 1, 31, 0, 0),\n",
       " datetime.datetime(1980, 2, 29, 0, 0),\n",
       " datetime.datetime(1980, 3, 31, 0, 0),\n",
       " datetime.datetime(1980, 4, 30, 0, 0),\n",
       " datetime.datetime(1980, 5, 31, 0, 0),\n",
       " datetime.datetime(1980, 6, 30, 0, 0),\n",
       " datetime.datetime(1980, 7, 31, 0, 0),\n",
       " datetime.datetime(1980, 8, 31, 0, 0),\n",
       " datetime.datetime(1980, 9, 30, 0, 0),\n",
       " datetime.datetime(1980, 10, 31, 0, 0),\n",
       " datetime.datetime(1980, 11, 30, 0, 0),\n",
       " datetime.datetime(1980, 12, 31, 0, 0),\n",
       " datetime.datetime(1981, 1, 31, 0, 0),\n",
       " datetime.datetime(1981, 2, 28, 0, 0),\n",
       " datetime.datetime(1981, 3, 31, 0, 0),\n",
       " datetime.datetime(1981, 4, 30, 0, 0),\n",
       " datetime.datetime(1981, 5, 31, 0, 0),\n",
       " datetime.datetime(1981, 6, 30, 0, 0),\n",
       " datetime.datetime(1981, 7, 31, 0, 0),\n",
       " datetime.datetime(1981, 8, 31, 0, 0),\n",
       " datetime.datetime(1981, 9, 30, 0, 0),\n",
       " datetime.datetime(1981, 10, 31, 0, 0),\n",
       " datetime.datetime(1981, 11, 30, 0, 0),\n",
       " datetime.datetime(1981, 12, 31, 0, 0),\n",
       " datetime.datetime(1982, 1, 31, 0, 0),\n",
       " datetime.datetime(1982, 2, 28, 0, 0),\n",
       " datetime.datetime(1982, 3, 31, 0, 0),\n",
       " datetime.datetime(1982, 4, 30, 0, 0),\n",
       " datetime.datetime(1982, 5, 31, 0, 0),\n",
       " datetime.datetime(1982, 6, 30, 0, 0),\n",
       " datetime.datetime(1982, 7, 31, 0, 0),\n",
       " datetime.datetime(1982, 8, 31, 0, 0),\n",
       " datetime.datetime(1982, 9, 30, 0, 0),\n",
       " datetime.datetime(1982, 10, 31, 0, 0),\n",
       " datetime.datetime(1982, 11, 30, 0, 0),\n",
       " datetime.datetime(1982, 12, 31, 0, 0),\n",
       " datetime.datetime(1983, 1, 31, 0, 0),\n",
       " datetime.datetime(1983, 2, 28, 0, 0),\n",
       " datetime.datetime(1983, 3, 31, 0, 0),\n",
       " datetime.datetime(1983, 4, 30, 0, 0),\n",
       " datetime.datetime(1983, 5, 31, 0, 0),\n",
       " datetime.datetime(1983, 6, 30, 0, 0),\n",
       " datetime.datetime(1983, 7, 31, 0, 0),\n",
       " datetime.datetime(1983, 8, 31, 0, 0),\n",
       " datetime.datetime(1983, 9, 30, 0, 0),\n",
       " datetime.datetime(1983, 10, 31, 0, 0),\n",
       " datetime.datetime(1983, 11, 30, 0, 0),\n",
       " datetime.datetime(1983, 12, 31, 0, 0),\n",
       " datetime.datetime(1984, 1, 31, 0, 0),\n",
       " datetime.datetime(1984, 2, 29, 0, 0),\n",
       " datetime.datetime(1984, 3, 31, 0, 0),\n",
       " datetime.datetime(1984, 4, 30, 0, 0),\n",
       " datetime.datetime(1984, 5, 31, 0, 0),\n",
       " datetime.datetime(1984, 6, 30, 0, 0),\n",
       " datetime.datetime(1984, 7, 31, 0, 0),\n",
       " datetime.datetime(1984, 8, 31, 0, 0),\n",
       " datetime.datetime(1984, 9, 30, 0, 0),\n",
       " datetime.datetime(1984, 10, 31, 0, 0),\n",
       " datetime.datetime(1984, 11, 30, 0, 0),\n",
       " datetime.datetime(1984, 12, 31, 0, 0),\n",
       " datetime.datetime(1985, 1, 31, 0, 0),\n",
       " datetime.datetime(1985, 2, 28, 0, 0),\n",
       " datetime.datetime(1985, 3, 31, 0, 0),\n",
       " datetime.datetime(1985, 4, 30, 0, 0),\n",
       " datetime.datetime(1985, 5, 31, 0, 0),\n",
       " datetime.datetime(1985, 6, 30, 0, 0),\n",
       " datetime.datetime(1985, 7, 31, 0, 0),\n",
       " datetime.datetime(1985, 8, 31, 0, 0),\n",
       " datetime.datetime(1985, 9, 30, 0, 0),\n",
       " datetime.datetime(1985, 10, 31, 0, 0),\n",
       " datetime.datetime(1985, 11, 30, 0, 0),\n",
       " datetime.datetime(1985, 12, 31, 0, 0),\n",
       " datetime.datetime(1986, 1, 31, 0, 0),\n",
       " datetime.datetime(1986, 2, 28, 0, 0),\n",
       " datetime.datetime(1986, 3, 31, 0, 0),\n",
       " datetime.datetime(1986, 4, 30, 0, 0),\n",
       " datetime.datetime(1986, 5, 31, 0, 0),\n",
       " datetime.datetime(1986, 6, 30, 0, 0),\n",
       " datetime.datetime(1986, 7, 31, 0, 0),\n",
       " datetime.datetime(1986, 8, 31, 0, 0),\n",
       " datetime.datetime(1986, 9, 30, 0, 0),\n",
       " datetime.datetime(1986, 10, 31, 0, 0),\n",
       " datetime.datetime(1986, 11, 30, 0, 0),\n",
       " datetime.datetime(1986, 12, 31, 0, 0),\n",
       " datetime.datetime(1987, 1, 31, 0, 0),\n",
       " datetime.datetime(1987, 2, 28, 0, 0),\n",
       " datetime.datetime(1987, 3, 31, 0, 0),\n",
       " datetime.datetime(1987, 4, 30, 0, 0),\n",
       " datetime.datetime(1987, 5, 31, 0, 0),\n",
       " datetime.datetime(1987, 6, 30, 0, 0),\n",
       " datetime.datetime(1987, 7, 31, 0, 0),\n",
       " datetime.datetime(1987, 8, 31, 0, 0),\n",
       " datetime.datetime(1987, 9, 30, 0, 0),\n",
       " datetime.datetime(1987, 10, 31, 0, 0),\n",
       " datetime.datetime(1987, 11, 30, 0, 0),\n",
       " datetime.datetime(1987, 12, 31, 0, 0),\n",
       " datetime.datetime(1988, 1, 31, 0, 0),\n",
       " datetime.datetime(1988, 2, 29, 0, 0),\n",
       " datetime.datetime(1988, 3, 31, 0, 0),\n",
       " datetime.datetime(1988, 4, 30, 0, 0),\n",
       " datetime.datetime(1988, 5, 31, 0, 0),\n",
       " datetime.datetime(1988, 6, 30, 0, 0),\n",
       " datetime.datetime(1988, 7, 31, 0, 0),\n",
       " datetime.datetime(1988, 8, 31, 0, 0),\n",
       " datetime.datetime(1988, 9, 30, 0, 0),\n",
       " datetime.datetime(1988, 10, 31, 0, 0),\n",
       " datetime.datetime(1988, 11, 30, 0, 0),\n",
       " datetime.datetime(1988, 12, 31, 0, 0),\n",
       " datetime.datetime(1989, 1, 31, 0, 0),\n",
       " datetime.datetime(1989, 2, 28, 0, 0),\n",
       " datetime.datetime(1989, 3, 31, 0, 0),\n",
       " datetime.datetime(1989, 4, 30, 0, 0),\n",
       " datetime.datetime(1989, 5, 31, 0, 0),\n",
       " datetime.datetime(1989, 6, 30, 0, 0),\n",
       " datetime.datetime(1989, 7, 31, 0, 0),\n",
       " datetime.datetime(1989, 8, 31, 0, 0),\n",
       " datetime.datetime(1989, 9, 30, 0, 0),\n",
       " datetime.datetime(1989, 10, 31, 0, 0),\n",
       " datetime.datetime(1989, 11, 30, 0, 0),\n",
       " datetime.datetime(1989, 12, 31, 0, 0),\n",
       " datetime.datetime(1990, 1, 31, 0, 0),\n",
       " datetime.datetime(1990, 2, 28, 0, 0),\n",
       " datetime.datetime(1990, 3, 31, 0, 0),\n",
       " datetime.datetime(1990, 4, 30, 0, 0),\n",
       " datetime.datetime(1990, 5, 31, 0, 0),\n",
       " datetime.datetime(1990, 6, 30, 0, 0),\n",
       " datetime.datetime(1990, 7, 31, 0, 0),\n",
       " datetime.datetime(1990, 8, 31, 0, 0),\n",
       " datetime.datetime(1990, 9, 30, 0, 0),\n",
       " datetime.datetime(1990, 10, 31, 0, 0),\n",
       " datetime.datetime(1990, 11, 30, 0, 0),\n",
       " datetime.datetime(1990, 12, 31, 0, 0),\n",
       " datetime.datetime(1991, 1, 31, 0, 0),\n",
       " datetime.datetime(1991, 2, 28, 0, 0),\n",
       " datetime.datetime(1991, 3, 31, 0, 0),\n",
       " datetime.datetime(1991, 4, 30, 0, 0),\n",
       " datetime.datetime(1991, 5, 31, 0, 0),\n",
       " datetime.datetime(1991, 6, 30, 0, 0),\n",
       " datetime.datetime(1991, 7, 31, 0, 0),\n",
       " datetime.datetime(1991, 8, 31, 0, 0),\n",
       " datetime.datetime(1991, 9, 30, 0, 0),\n",
       " datetime.datetime(1991, 10, 31, 0, 0),\n",
       " datetime.datetime(1991, 11, 30, 0, 0),\n",
       " datetime.datetime(1991, 12, 31, 0, 0),\n",
       " datetime.datetime(1992, 1, 31, 0, 0),\n",
       " datetime.datetime(1992, 2, 29, 0, 0),\n",
       " datetime.datetime(1992, 3, 31, 0, 0),\n",
       " datetime.datetime(1992, 4, 30, 0, 0),\n",
       " datetime.datetime(1992, 5, 31, 0, 0),\n",
       " datetime.datetime(1992, 6, 30, 0, 0),\n",
       " datetime.datetime(1992, 7, 31, 0, 0),\n",
       " datetime.datetime(1992, 8, 31, 0, 0),\n",
       " datetime.datetime(1992, 9, 30, 0, 0),\n",
       " datetime.datetime(1992, 10, 31, 0, 0),\n",
       " datetime.datetime(1992, 11, 30, 0, 0),\n",
       " datetime.datetime(1992, 12, 31, 0, 0),\n",
       " datetime.datetime(1993, 1, 31, 0, 0),\n",
       " datetime.datetime(1993, 2, 28, 0, 0),\n",
       " datetime.datetime(1993, 3, 31, 0, 0),\n",
       " datetime.datetime(1993, 4, 30, 0, 0),\n",
       " datetime.datetime(1993, 5, 31, 0, 0),\n",
       " datetime.datetime(1993, 6, 30, 0, 0),\n",
       " datetime.datetime(1993, 7, 31, 0, 0),\n",
       " datetime.datetime(1993, 8, 31, 0, 0),\n",
       " datetime.datetime(1993, 9, 30, 0, 0),\n",
       " datetime.datetime(1993, 10, 31, 0, 0),\n",
       " datetime.datetime(1993, 11, 30, 0, 0),\n",
       " datetime.datetime(1993, 12, 31, 0, 0),\n",
       " datetime.datetime(1994, 1, 31, 0, 0),\n",
       " datetime.datetime(1994, 2, 28, 0, 0),\n",
       " datetime.datetime(1994, 3, 31, 0, 0),\n",
       " datetime.datetime(1994, 4, 30, 0, 0),\n",
       " datetime.datetime(1994, 5, 31, 0, 0),\n",
       " datetime.datetime(1994, 6, 30, 0, 0),\n",
       " datetime.datetime(1994, 7, 31, 0, 0),\n",
       " datetime.datetime(1994, 8, 31, 0, 0),\n",
       " datetime.datetime(1994, 9, 30, 0, 0),\n",
       " datetime.datetime(1994, 10, 31, 0, 0),\n",
       " datetime.datetime(1994, 11, 30, 0, 0),\n",
       " datetime.datetime(1994, 12, 31, 0, 0),\n",
       " datetime.datetime(1995, 1, 31, 0, 0),\n",
       " datetime.datetime(1995, 2, 28, 0, 0),\n",
       " datetime.datetime(1995, 3, 31, 0, 0),\n",
       " datetime.datetime(1995, 4, 30, 0, 0),\n",
       " datetime.datetime(1995, 5, 31, 0, 0),\n",
       " datetime.datetime(1995, 6, 30, 0, 0),\n",
       " datetime.datetime(1995, 7, 31, 0, 0),\n",
       " datetime.datetime(1995, 8, 31, 0, 0),\n",
       " datetime.datetime(1995, 9, 30, 0, 0),\n",
       " datetime.datetime(1995, 10, 31, 0, 0),\n",
       " datetime.datetime(1995, 11, 30, 0, 0),\n",
       " datetime.datetime(1995, 12, 31, 0, 0),\n",
       " datetime.datetime(1996, 1, 31, 0, 0),\n",
       " datetime.datetime(1996, 2, 29, 0, 0),\n",
       " datetime.datetime(1996, 3, 31, 0, 0),\n",
       " datetime.datetime(1996, 4, 30, 0, 0),\n",
       " datetime.datetime(1996, 5, 31, 0, 0),\n",
       " datetime.datetime(1996, 6, 30, 0, 0),\n",
       " datetime.datetime(1996, 7, 31, 0, 0),\n",
       " datetime.datetime(1996, 8, 31, 0, 0),\n",
       " datetime.datetime(1996, 9, 30, 0, 0),\n",
       " datetime.datetime(1996, 10, 31, 0, 0),\n",
       " datetime.datetime(1996, 11, 30, 0, 0),\n",
       " datetime.datetime(1996, 12, 31, 0, 0),\n",
       " datetime.datetime(1997, 1, 31, 0, 0),\n",
       " datetime.datetime(1997, 2, 28, 0, 0),\n",
       " datetime.datetime(1997, 3, 31, 0, 0),\n",
       " datetime.datetime(1997, 4, 30, 0, 0),\n",
       " datetime.datetime(1997, 5, 31, 0, 0),\n",
       " datetime.datetime(1997, 6, 30, 0, 0),\n",
       " datetime.datetime(1997, 7, 31, 0, 0),\n",
       " datetime.datetime(1997, 8, 31, 0, 0),\n",
       " datetime.datetime(1997, 9, 30, 0, 0),\n",
       " datetime.datetime(1997, 10, 31, 0, 0),\n",
       " datetime.datetime(1997, 11, 30, 0, 0),\n",
       " datetime.datetime(1997, 12, 31, 0, 0),\n",
       " datetime.datetime(1998, 1, 31, 0, 0),\n",
       " datetime.datetime(1998, 2, 28, 0, 0),\n",
       " datetime.datetime(1998, 3, 31, 0, 0),\n",
       " datetime.datetime(1998, 4, 30, 0, 0),\n",
       " datetime.datetime(1998, 5, 31, 0, 0),\n",
       " datetime.datetime(1998, 6, 30, 0, 0),\n",
       " datetime.datetime(1998, 7, 31, 0, 0),\n",
       " datetime.datetime(1998, 8, 31, 0, 0),\n",
       " datetime.datetime(1998, 9, 30, 0, 0),\n",
       " datetime.datetime(1998, 10, 31, 0, 0),\n",
       " datetime.datetime(1998, 11, 30, 0, 0),\n",
       " datetime.datetime(1998, 12, 31, 0, 0),\n",
       " datetime.datetime(1999, 1, 31, 0, 0),\n",
       " datetime.datetime(1999, 2, 28, 0, 0),\n",
       " datetime.datetime(1999, 3, 31, 0, 0),\n",
       " datetime.datetime(1999, 4, 30, 0, 0),\n",
       " datetime.datetime(1999, 5, 31, 0, 0),\n",
       " datetime.datetime(1999, 6, 30, 0, 0),\n",
       " datetime.datetime(1999, 7, 31, 0, 0),\n",
       " datetime.datetime(1999, 8, 31, 0, 0),\n",
       " datetime.datetime(1999, 9, 30, 0, 0),\n",
       " datetime.datetime(1999, 10, 31, 0, 0),\n",
       " datetime.datetime(1999, 11, 30, 0, 0),\n",
       " datetime.datetime(1999, 12, 31, 0, 0),\n",
       " datetime.datetime(2000, 1, 31, 0, 0),\n",
       " datetime.datetime(2000, 2, 29, 0, 0),\n",
       " datetime.datetime(2000, 3, 31, 0, 0),\n",
       " datetime.datetime(2000, 4, 30, 0, 0),\n",
       " datetime.datetime(2000, 5, 31, 0, 0),\n",
       " datetime.datetime(2000, 6, 30, 0, 0),\n",
       " datetime.datetime(2000, 7, 31, 0, 0),\n",
       " datetime.datetime(2000, 8, 31, 0, 0),\n",
       " datetime.datetime(2000, 9, 30, 0, 0),\n",
       " datetime.datetime(2000, 10, 31, 0, 0)]"
      ]
     },
     "execution_count": 10,
     "metadata": {},
     "output_type": "execute_result"
    }
   ],
   "source": [
    "dates"
   ]
  },
  {
   "cell_type": "code",
   "execution_count": 4,
   "metadata": {
    "collapsed": false
   },
   "outputs": [
    {
     "name": "stderr",
     "output_type": "stream",
     "text": [
      "/usr/local/lib/python2.7/dist-packages/ipykernel/__main__.py:2: FutureWarning: TimeSeries is deprecated. Please use Series\n",
      "  from ipykernel import kernelapp as app\n"
     ]
    }
   ],
   "source": [
    "dates = sm.tsa.datetools.dates_from_range('1980m1', length=nobs)\n",
    "y = pd.TimeSeries(y, index=dates)\n",
    "arma_mod = sm.tsa.ARMA(y, order=(2,2))\n",
    "arma_res = arma_mod.fit(trend='nc', disp=-1)"
   ]
  },
  {
   "cell_type": "code",
   "execution_count": 9,
   "metadata": {
    "collapsed": false
   },
   "outputs": [
    {
     "data": {
      "text/plain": [
       "1980-01-31   -0.133060\n",
       "1980-02-29    0.139871\n",
       "1980-03-31   -0.031837\n",
       "1980-04-30   -0.601874\n",
       "1980-05-31    0.639806\n",
       "1980-06-30    2.224060\n",
       "1980-07-31    2.056176\n",
       "1980-08-31    1.201769\n",
       "1980-09-30    0.985759\n",
       "1980-10-31    1.518217\n",
       "1980-11-30    1.983149\n",
       "1980-12-31    0.617780\n",
       "1981-01-31   -0.307385\n",
       "1981-02-28   -0.139943\n",
       "1981-03-31    0.931404\n",
       "1981-04-30    1.783239\n",
       "1981-05-31    0.113764\n",
       "1981-06-30   -1.302757\n",
       "1981-07-31   -0.050787\n",
       "1981-08-31    0.586687\n",
       "1981-09-30   -0.051619\n",
       "1981-10-31   -0.064255\n",
       "1981-11-30    2.243472\n",
       "1981-12-31    2.172000\n",
       "1982-01-31    0.335596\n",
       "1982-02-28   -0.412605\n",
       "1982-03-31   -0.153211\n",
       "1982-04-30    0.434609\n",
       "1982-05-31    0.548191\n",
       "1982-06-30    1.176297\n",
       "                ...   \n",
       "1998-05-31    0.110777\n",
       "1998-06-30   -0.022084\n",
       "1998-07-31   -0.505372\n",
       "1998-08-31   -1.895997\n",
       "1998-09-30   -1.527703\n",
       "1998-10-31    0.211989\n",
       "1998-11-30    1.618749\n",
       "1998-12-31    1.607772\n",
       "1999-01-31    0.605399\n",
       "1999-02-28    0.071240\n",
       "1999-03-31   -0.603263\n",
       "1999-04-30   -1.915413\n",
       "1999-05-31   -2.579233\n",
       "1999-06-30   -0.890069\n",
       "1999-07-31    0.105532\n",
       "1999-08-31   -1.473197\n",
       "1999-09-30   -2.668898\n",
       "1999-10-31   -1.850898\n",
       "1999-11-30   -0.637246\n",
       "1999-12-31    0.027539\n",
       "2000-01-31   -0.686086\n",
       "2000-02-29   -1.019765\n",
       "2000-03-31    0.007418\n",
       "2000-04-30    0.172092\n",
       "2000-05-31    0.578478\n",
       "2000-06-30    0.050999\n",
       "2000-07-31   -0.206404\n",
       "2000-08-31   -0.170874\n",
       "2000-09-30    0.257949\n",
       "2000-10-31    0.245237\n",
       "dtype: float64"
      ]
     },
     "execution_count": 9,
     "metadata": {},
     "output_type": "execute_result"
    }
   ],
   "source": [
    "y"
   ]
  },
  {
   "cell_type": "code",
   "execution_count": 5,
   "metadata": {
    "collapsed": false
   },
   "outputs": [
    {
     "name": "stdout",
     "output_type": "stream",
     "text": [
      "                              ARMA Model Results                              \n",
      "==============================================================================\n",
      "Dep. Variable:                      y   No. Observations:                  250\n",
      "Model:                     ARMA(2, 2)   Log Likelihood                -245.887\n",
      "Method:                       css-mle   S.D. of innovations              0.645\n",
      "Date:                Mon, 07 Mar 2016   AIC                            501.773\n",
      "Time:                        14:35:14   BIC                            519.381\n",
      "Sample:                    01-31-1980   HQIC                           508.860\n",
      "                         - 10-31-2000                                         \n",
      "==============================================================================\n",
      "                 coef    std err          z      P>|z|      [95.0% Conf. Int.]\n",
      "------------------------------------------------------------------------------\n",
      "ar.L1.y        0.8411      0.403      2.089      0.038         0.052     1.630\n",
      "ar.L2.y       -0.2693      0.247     -1.092      0.276        -0.753     0.214\n",
      "ma.L1.y        0.5352      0.412      1.299      0.195        -0.273     1.343\n",
      "ma.L2.y        0.0157      0.306      0.051      0.959        -0.585     0.616\n",
      "                                    Roots                                    \n",
      "=============================================================================\n",
      "                 Real           Imaginary           Modulus         Frequency\n",
      "-----------------------------------------------------------------------------\n",
      "AR.1            1.5618           -1.1289j            1.9271           -0.0996\n",
      "AR.2            1.5618           +1.1289j            1.9271            0.0996\n",
      "MA.1           -1.9835           +0.0000j            1.9835            0.5000\n",
      "MA.2          -32.1772           +0.0000j           32.1772            0.5000\n",
      "-----------------------------------------------------------------------------\n"
     ]
    }
   ],
   "source": [
    "print(arma_res.summary())"
   ]
  },
  {
   "cell_type": "code",
   "execution_count": 6,
   "metadata": {
    "collapsed": false
   },
   "outputs": [
    {
     "data": {
      "text/plain": [
       "2000-06-30    0.050999\n",
       "2000-07-31   -0.206404\n",
       "2000-08-31   -0.170874\n",
       "2000-09-30    0.257949\n",
       "2000-10-31    0.245237\n",
       "dtype: float64"
      ]
     },
     "execution_count": 6,
     "metadata": {},
     "output_type": "execute_result"
    }
   ],
   "source": [
    "y.tail()"
   ]
  },
  {
   "cell_type": "code",
   "execution_count": 7,
   "metadata": {
    "collapsed": false
   },
   "outputs": [
    {
     "name": "stderr",
     "output_type": "stream",
     "text": [
      "/usr/local/lib/python2.7/dist-packages/statsmodels/tsa/arima_model.py:1724: FutureWarning: TimeSeries is deprecated. Please use Series\n",
      "  forecast = TimeSeries(forecast, index=self.data.predict_dates)\n"
     ]
    },
    {
     "data": {
      "image/png": "[encoded data removed]",
      "text/plain": [
       "<matplotlib.figure.Figure at 0x7f01c18d1b90>"
      ]
     },
     "metadata": {},
     "output_type": "display_data"
    }
   ],
   "source": [
    "import matplotlib.pyplot as plt\n",
    "fig, ax = plt.subplots(figsize=(10,8))\n",
    "fig = arma_res.plot_predict(start='1999m6', end='2001m5', ax=ax)\n",
    "legend = ax.legend(loc='upper left')"
   ]
  },
  {
   "cell_type": "code",
   "execution_count": null,
   "metadata": {
    "collapsed": true
   },
   "outputs": [],
   "source": []
  }
 ],
 "metadata": {
  "kernelspec": {
   "display_name": "Python 2",
   "language": "python",
   "name": "python2"
  },
  "language_info": {
   "codemirror_mode": {
    "name": "ipython",
    "version": 2
   },
   "file_extension": ".py",
   "mimetype": "text/x-python",
   "name": "python",
   "nbconvert_exporter": "python",
   "pygments_lexer": "ipython2",
   "version": "2.7.6"
  }
 },
 "nbformat": 4,
 "nbformat_minor": 0
}
