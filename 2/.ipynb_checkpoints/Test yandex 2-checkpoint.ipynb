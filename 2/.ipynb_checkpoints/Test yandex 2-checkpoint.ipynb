{
 "cells": [
  {
   "cell_type": "code",
   "execution_count": 68,
   "metadata": {
    "collapsed": false
   },
   "outputs": [
    {
     "name": "stdout",
     "output_type": "stream",
     "text": [
      "1.95744427263\n",
      "0.8 True\n",
      "0.821111111111 True\n",
      "0.842222222222 True\n",
      "0.863333333333 True\n",
      "0.884444444444 True\n",
      "0.905555555556 True\n",
      "0.926666666667 True\n",
      "0.947777777778 True\n",
      "0.968888888889 True\n",
      "0.99 False\n",
      "0.0251476288183\n"
     ]
    }
   ],
   "source": [
    "import itertools\n",
    "import operator\n",
    "import math\n",
    "from scipy import stats\n",
    "import numpy as np\n",
    "\n",
    "m = map(float,[500, 440])\n",
    "n = map(float, list(itertools.repeat(pow(10,6), len(m))))\n",
    "\n",
    "num = (m[0]/n[0] + 1/(2*n[0]) - m[1]/n[1] - 1/(2*n[1]))\n",
    "\n",
    "denom = math.sqrt((m[0]+m[1])*(n[0]+n[1]-m[0]-m[1])*(1/n[0]+1/n[1])/pow(n[0]+n[1],2))\n",
    "\n",
    "z = num / denom\n",
    "\n",
    "print z \n",
    "\n",
    "for q in np.linspace(0.8, 0.99, num=10):\n",
    "    quant = stats.norm.ppf(q, 0, 1) \n",
    "    print q, (z > quant)\n",
    "    \n",
    "print (stats.norm.sf(abs(z)))"
   ]
  },
  {
   "cell_type": "code",
   "execution_count": 65,
   "metadata": {
    "collapsed": false
   },
   "outputs": [
    {
     "ename": "SyntaxError",
     "evalue": "invalid syntax (<ipython-input-65-bf0db14dfd7f>, line 10)",
     "output_type": "error",
     "traceback": [
      "\u001b[1;36m  File \u001b[1;32m\"<ipython-input-65-bf0db14dfd7f>\"\u001b[1;36m, line \u001b[1;32m10\u001b[0m\n\u001b[1;33m    def twoSampZ(X1, X2, mudiff, sd1, sd2, n1, n2):\u001b[0m\n\u001b[1;37m      ^\u001b[0m\n\u001b[1;31mSyntaxError\u001b[0m\u001b[1;31m:\u001b[0m invalid syntax\n"
     ]
    }
   ],
   "source": [
    "from numpy import sqrt, abs, round\n",
    "from scipy.stats import norm\n",
    "\n",
    "X1 = m[0]/n[0]\n",
    "X2 = m[1]/n[1]\n",
    "mudiff = 1/(2*n[0] - 1/(2*n[1]) #0\n",
    "            \n",
    "            \n",
    "                    \n",
    "def twoSampZ(X1, X2, mudiff, sd1, sd2, n1, n2):\n",
    "    pooledSE = sqrt(sd1**2/n1 + sd2**2/n2)\n",
    "    z = ((X1 - X2) - mudiff)/pooledSE\n",
    "    pval = 2*(1 - norm.cdf(abs(z)))\n",
    "    return round(z, 3), round(pval, 4)"
   ]
  },
  {
   "cell_type": "code",
   "execution_count": 61,
   "metadata": {
    "collapsed": false
   },
   "outputs": [
    {
     "ename": "AttributeError",
     "evalue": "'module' object has no attribute 'stats'",
     "output_type": "error",
     "traceback": [
      "\u001b[1;31m---------------------------------------------------------------------------\u001b[0m",
      "\u001b[1;31mAttributeError\u001b[0m                            Traceback (most recent call last)",
      "\u001b[1;32m<ipython-input-61-1fd316771d11>\u001b[0m in \u001b[0;36m<module>\u001b[1;34m()\u001b[0m\n\u001b[0;32m      1\u001b[0m \u001b[1;32mimport\u001b[0m \u001b[0mstatsmodels\u001b[0m\u001b[1;33m\u001b[0m\u001b[0m\n\u001b[0;32m      2\u001b[0m \u001b[1;33m\u001b[0m\u001b[0m\n\u001b[1;32m----> 3\u001b[1;33m \u001b[0mstatsmodels\u001b[0m\u001b[1;33m.\u001b[0m\u001b[0mstats\u001b[0m\u001b[1;33m.\u001b[0m\u001b[0mweightstats\u001b[0m\u001b[1;33m.\u001b[0m\u001b[0mCompareMeans\u001b[0m\u001b[1;33m.\u001b[0m\u001b[0mztest_ind\u001b[0m\u001b[1;33m\u001b[0m\u001b[0m\n\u001b[0m",
      "\u001b[1;31mAttributeError\u001b[0m: 'module' object has no attribute 'stats'"
     ]
    }
   ],
   "source": [
    "import statsmodels\n",
    "\n",
    "statsmodels.stats.weightstats.CompareMeans.ztest_ind\n"
   ]
  },
  {
   "cell_type": "code",
   "execution_count": null,
   "metadata": {
    "collapsed": true
   },
   "outputs": [],
   "source": []
  }
 ],
 "metadata": {
  "kernelspec": {
   "display_name": "Python 2",
   "language": "python",
   "name": "python2"
  },
  "language_info": {
   "codemirror_mode": {
    "name": "ipython",
    "version": 2
   },
   "file_extension": ".py",
   "mimetype": "text/x-python",
   "name": "python",
   "nbconvert_exporter": "python",
   "pygments_lexer": "ipython2",
   "version": "2.7.6"
  }
 },
 "nbformat": 4,
 "nbformat_minor": 0
}
